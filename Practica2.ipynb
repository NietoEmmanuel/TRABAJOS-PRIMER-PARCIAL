{
  "nbformat": 4,
  "nbformat_minor": 0,
  "metadata": {
    "colab": {
      "provenance": [],
      "authorship_tag": "ABX9TyOEJ+b4EX/4xnLXIhiaG8Rf",
      "include_colab_link": true
    },
    "kernelspec": {
      "name": "python3",
      "display_name": "Python 3"
    },
    "language_info": {
      "name": "python"
    }
  },
  "cells": [
    {
      "cell_type": "markdown",
      "metadata": {
        "id": "view-in-github",
        "colab_type": "text"
      },
      "source": [
        "<a href=\"https://colab.research.google.com/github/NietoEmmanuel/TRABAJOS-PRIMER-PARCIAL/blob/main/Practica2.ipynb\" target=\"_parent\"><img src=\"https://colab.research.google.com/assets/colab-badge.svg\" alt=\"Open In Colab\"/></a>"
      ]
    },
    {
      "cell_type": "code",
      "source": [
        "#METODO DE NEWTON\n",
        "from math import *\n",
        "import numpy as np\n",
        "import matplotlib.pyplot as plt\n",
        "\n",
        "def funcion1(x):\n",
        "    return cos(x)-x\n",
        "\n",
        "def funcion2(x):\n",
        "    return (-sin(x)-1)\n",
        "\n",
        "#Ingrese el valor inicial \n",
        "p0 = pi/4\n",
        "error = 100\n",
        "tol = 0.0001\n",
        "niter = 0\n",
        "nmax = 100\n",
        "\n",
        "print(\"n \\t\\t Pn \\t\\t error\")\n",
        "print(\"{0} \\t\\t {1:6.6f} \\t {2:6.6f}\".format(niter, p0, 0 ))\n",
        "\n",
        "while error > tol and niter < nmax:\n",
        "    p = p0- funcion1(p0)/(funcion2(p0))\n",
        "    error = abs(funcion1(p0)-funcion1(p))\n",
        "    p0 = p\n",
        "    niter +=1\n",
        "    print(\"{0} \\t\\t {1:6.9f} \\t {2:6.9f}\".format(niter, p0, error ))\n",
        "\n",
        "print(\"La raiz apriximada es {0:6.9f}\".format(p0))"
      ],
      "metadata": {
        "colab": {
          "base_uri": "https://localhost:8080/"
        },
        "id": "bEKByOPZJ4CF",
        "outputId": "5f67ac36-9220-4d8b-e39e-b5dcc78c3aa2"
      },
      "execution_count": 49,
      "outputs": [
        {
          "output_type": "stream",
          "name": "stdout",
          "text": [
            "n \t\t Pn \t\t error\n",
            "0 \t\t 0.785398 \t 0.000000\n",
            "1 \t\t 0.739536134 \t 0.077536508\n",
            "2 \t\t 0.739085178 \t 0.000754800\n",
            "3 \t\t 0.739085133 \t 0.000000075\n",
            "La raiz apriximada es 0.739085133\n"
          ]
        }
      ]
    },
    {
      "cell_type": "code",
      "source": [
        "#METODO DE SECANTE\n",
        "from math import *\n",
        "import numpy as np\n",
        "import matplotlib.pyplot as plt\n",
        "\n",
        "def funcion1(x):\n",
        "    return cos(x)-x\n",
        "\n",
        "#Ingrese el valor inicial \n",
        "p0 = 0.5\n",
        "p1 = pi/4\n",
        "error = 100\n",
        "tol = 0.0000001\n",
        "niter = 0\n",
        "nmax = 100\n",
        "\n",
        "print(\"n \\t\\t Pn \\t\\t error\")\n",
        "print(\"{0} \\t\\t {1:6.6f} \\t {2:6.6f}\".format(niter, p0, 0 ))\n",
        "\n",
        "q0 = funcion1(p0)\n",
        "q1 = funcion1(p1)\n",
        "\n",
        "while error > tol and niter < nmax:\n",
        "    p = p1-(q1*(p1-p0))/(q1-q0)\n",
        "    error = abs(funcion1(p)-funcion1(p1))\n",
        "    p0 = p1\n",
        "    q0 = q1\n",
        "    p1 = p\n",
        "    q1 = funcion1(p)\n",
        "    niter +=1\n",
        "    print(\"{0} \\t\\t {1:6.8f} \\t {2:6.8f}\".format(niter, p, error ))\n",
        "\n",
        "print(\"La raiz apriximada es {0:6.8f}\".format(p))"
      ],
      "metadata": {
        "colab": {
          "base_uri": "https://localhost:8080/"
        },
        "id": "LJHM_fu0KVlq",
        "outputId": "5af2055d-f1c2-4a7c-eab7-d0cdecca8758"
      },
      "execution_count": 48,
      "outputs": [
        {
          "output_type": "stream",
          "name": "stdout",
          "text": [
            "n \t\t Pn \t\t error\n",
            "0 \t\t 0.500000 \t 0.000000\n",
            "1 \t\t 0.73638414 \t 0.08280910\n",
            "2 \t\t 0.73905814 \t 0.00447254\n",
            "3 \t\t 0.73908515 \t 0.00004520\n",
            "4 \t\t 0.73908513 \t 0.00000003\n",
            "La raiz apriximada es 0.73908513\n"
          ]
        }
      ]
    },
    {
      "cell_type": "code",
      "source": [
        "#METODO DE NEWTON-HORNER\n",
        "import numpy as np\n",
        "import matplotlib.pyplot as plt\n",
        "import numpy.polynomial.polynomial as pol\n",
        "\n",
        "tol=0.000001\n",
        "i=0\n",
        "nmax=20\n",
        "error=100\n",
        "#coeficientes de x^4 + 2x^3 + x^2-x-6\n",
        "a=-6\n",
        "b=-1\n",
        "c=1\n",
        "d=2\n",
        "e=1\n",
        "#Se define la funcion p(x)\n",
        "p = np.array([a,b,c, d,  e ])\n",
        "pi=1.5\n",
        "\n",
        "#Ciclo iterativo \n",
        "while error > tol and i <= nmax:\n",
        "   #Se aplica el método de horner \n",
        "  q4=e\n",
        "  q3=d+ q4*(pi)\n",
        "  q2=c + q3*(pi)\n",
        "  q1=b+ q2*pi\n",
        "\n",
        "  #Se determina el Q(x)\n",
        "  q=np.array([q1,q2, q3,  q4 ])\n",
        "  \n",
        "\n",
        "  #Se calcula el valor de cada pn\n",
        "  pn = pi - (pol.polyval(pi, p))/(pol.polyval(pi, q))\n",
        "\n",
        "  error = abs(pn - pi)\n",
        "\n",
        "  pi=pn\n",
        "  i += 1\n",
        "  print(\"{0} \\t\\t {1:6.6f} \\t {2:6.6f}\".format(i, pn,error ))"
      ],
      "metadata": {
        "colab": {
          "base_uri": "https://localhost:8080/"
        },
        "id": "WuwvSa9zKvwh",
        "outputId": "f7715b6d-e96e-400b-aa5d-7c6f77c6a064"
      },
      "execution_count": 47,
      "outputs": [
        {
          "output_type": "stream",
          "name": "stdout",
          "text": [
            "1 \t\t 1.273707 \t 0.226293\n",
            "2 \t\t 1.216751 \t 0.056956\n",
            "3 \t\t 1.213423 \t 0.003328\n",
            "4 \t\t 1.213412 \t 0.000011\n",
            "5 \t\t 1.213412 \t 0.000000\n"
          ]
        }
      ]
    },
    {
      "cell_type": "code",
      "source": [
        "#METODO DE MÜLLER\n",
        "from math import *\n",
        "import numpy as np\n",
        "\n",
        "def f1(x):\n",
        "    return x**4 -3*x**3 +x**2 + x + 1\n",
        "\n",
        "tol=0.000000001\n",
        "nmax=20\n",
        "h=100\n",
        "error=100\n",
        "#Determinan valores iniciales\n",
        "p0=0.5\n",
        "p1=-0.5\n",
        "p2=0\n",
        "h1=p1-p0\n",
        "h2=p2-p1\n",
        "g1=( f1(p1)- f1(p0) )/h1\n",
        "g2=( f1(p2)- f1(p1))/h2\n",
        "d=(g2 - g1  )/(h2+h1)\n",
        "i=3\n",
        "\n",
        "print(\"# iter  \\t\\t P  \\t\\t\\t error\")\n",
        "\n",
        "#Ciclo iterativo \n",
        "while i<= nmax and abs(h)>tol :\n",
        "  b= g2 + h2*d\n",
        "  D=(b**2 -4*f1(p2)*d)**(1/2)\n",
        "\n",
        "  if abs(b-D)<abs(b+D):\n",
        "    E= b+D\n",
        "  else:\n",
        "    E=b-D\n",
        " \n",
        "  h=-2*f1(p2)/E\n",
        "  p=p2+h\n",
        "  error= abs(p- p2)\n",
        "  #Se determinan nuevos valores\n",
        "\n",
        "  p0=p1\n",
        "  p1=p2\n",
        "  p2=p\n",
        "  h1=p1-p0\n",
        "  h2=p2-p1\n",
        "  g1=( f1(p1)- f1(p0) )/h1\n",
        "  g2=( f1(p2)- f1(p1))/h2\n",
        "  d=(g2 - g1  )/(h2+h1)\n",
        "\n",
        "  print(\"{0} \\t\\t {1:6.6f} \\t {2:6.6f}\".format(i, p,error ))\n",
        "\n",
        "  i+=1"
      ],
      "metadata": {
        "colab": {
          "base_uri": "https://localhost:8080/"
        },
        "id": "PXVflitvLa6S",
        "outputId": "45e1d969-c67a-4827-b3f0-128962235f80"
      },
      "execution_count": 46,
      "outputs": [
        {
          "output_type": "stream",
          "name": "stdout",
          "text": [
            "# iter  \t\t P  \t\t\t error\n",
            "3 \t\t -0.100000-0.888819j \t 0.894427\n",
            "4 \t\t -0.492146-0.447031j \t 0.590725\n",
            "5 \t\t -0.352226-0.484132j \t 0.144755\n",
            "6 \t\t -0.340229-0.443036j \t 0.042812\n",
            "7 \t\t -0.339095-0.446656j \t 0.003794\n",
            "8 \t\t -0.339093-0.446630j \t 0.000026\n",
            "9 \t\t -0.339093-0.446630j \t 0.000000\n",
            "10 \t\t -0.339093-0.446630j \t 0.000000\n"
          ]
        }
      ]
    }
  ]
}