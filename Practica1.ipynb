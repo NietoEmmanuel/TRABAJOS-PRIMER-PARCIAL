{
  "nbformat": 4,
  "nbformat_minor": 0,
  "metadata": {
    "colab": {
      "provenance": [],
      "authorship_tag": "ABX9TyNMaE5IoOhQ+lklImtJ0+X3",
      "include_colab_link": true
    },
    "kernelspec": {
      "name": "python3",
      "display_name": "Python 3"
    },
    "language_info": {
      "name": "python"
    }
  },
  "cells": [
    {
      "cell_type": "markdown",
      "metadata": {
        "id": "view-in-github",
        "colab_type": "text"
      },
      "source": [
        "<a href=\"https://colab.research.google.com/github/NietoEmmanuel/TRABAJOS-PRIMER-PARCIAL/blob/main/Practica1.ipynb\" target=\"_parent\"><img src=\"https://colab.research.google.com/assets/colab-badge.svg\" alt=\"Open In Colab\"/></a>"
      ]
    },
    {
      "cell_type": "code",
      "execution_count": 1,
      "metadata": {
        "id": "hDMXaK_e5TLB"
      },
      "outputs": [],
      "source": [
        "from math import *\n",
        "import numpy as np\n",
        "import matplotlib . pyplot as plt"
      ]
    },
    {
      "cell_type": "code",
      "source": [
        "#funcion Principal\n",
        "def fn1(x):\n",
        "    return 2**(-x)\n"
      ],
      "metadata": {
        "id": "S4bx56fX5XeY"
      },
      "execution_count": 2,
      "outputs": []
    },
    {
      "cell_type": "code",
      "source": [
        "#funcion despejada \n",
        "def gn(x):\n",
        "    return 2**(-x)"
      ],
      "metadata": {
        "id": "vL111P8c5sw5"
      },
      "execution_count": 3,
      "outputs": []
    },
    {
      "cell_type": "code",
      "source": [
        "# guarda valores iniciales\n",
        "j=0 #contador \n",
        "#intervalo\n",
        "a=0\n",
        "b=1\n",
        "xn=b\n",
        "x=a\n",
        "\n",
        "tol = 0.00001 #float(input(\"Ingrese el valor de la tolerancia: \"))\n",
        "nmax = 100 #float(input(\"Ingrese el número máximo de iteraciones: \"))\n",
        "\n",
        "\n",
        "print(\"# iter\\t\\t x_n \\t\\t g(x_n) \\t f(x_n)\")\n"
      ],
      "metadata": {
        "colab": {
          "base_uri": "https://localhost:8080/"
        },
        "id": "MZEqed6A57II",
        "outputId": "2427dafd-c7e0-41c0-9784-60eaf467b98f"
      },
      "execution_count": 4,
      "outputs": [
        {
          "output_type": "stream",
          "name": "stdout",
          "text": [
            "# iter\t\t x_n \t\t g(x_n) \t f(x_n)\n"
          ]
        }
      ]
    },
    {
      "cell_type": "code",
      "source": [
        "#Método del punto fijo \n",
        "# ciclo iterativo\n",
        "while 17 > j :\n",
        "  x=gn(xn)\n",
        "  print(\"{0} \\t\\t {1:6.6f} \\t {2:6.6f} \\t {3:6.6f} \".format(j, xn,x ,fn1(x) ))\n",
        "\n",
        "  if abs(x-xn) < tol:\n",
        "      break\n",
        "  xn=x\n",
        "  j += 1\n",
        "  \n",
        "\n",
        "#print(\"La raíz de la función dada en el intervalo [{0:6.4f},{1:6.4f}] es {2:6.7f}\".format(a,b,xn))"
      ],
      "metadata": {
        "colab": {
          "base_uri": "https://localhost:8080/"
        },
        "id": "YCKHOAQp59hH",
        "outputId": "3ac2866a-4ad2-42eb-aba7-130e7c6bb1c9"
      },
      "execution_count": 5,
      "outputs": [
        {
          "output_type": "stream",
          "name": "stdout",
          "text": [
            "0 \t\t 1.000000 \t 0.500000 \t 0.707107 \n",
            "1 \t\t 0.500000 \t 0.707107 \t 0.612547 \n",
            "2 \t\t 0.707107 \t 0.612547 \t 0.654041 \n",
            "3 \t\t 0.612547 \t 0.654041 \t 0.635498 \n",
            "4 \t\t 0.654041 \t 0.635498 \t 0.643719 \n",
            "5 \t\t 0.635498 \t 0.643719 \t 0.640061 \n",
            "6 \t\t 0.643719 \t 0.640061 \t 0.641686 \n",
            "7 \t\t 0.640061 \t 0.641686 \t 0.640964 \n",
            "8 \t\t 0.641686 \t 0.640964 \t 0.641285 \n",
            "9 \t\t 0.640964 \t 0.641285 \t 0.641142 \n",
            "10 \t\t 0.641285 \t 0.641142 \t 0.641205 \n",
            "11 \t\t 0.641142 \t 0.641205 \t 0.641177 \n",
            "12 \t\t 0.641205 \t 0.641177 \t 0.641190 \n",
            "13 \t\t 0.641177 \t 0.641190 \t 0.641184 \n",
            "14 \t\t 0.641190 \t 0.641184 \t 0.641187 \n"
          ]
        }
      ]
    }
  ]
}